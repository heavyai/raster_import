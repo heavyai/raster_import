{
 "cells": [
  {
   "cell_type": "markdown",
   "metadata": {},
   "source": [
    "### Reading Raster Data in OmniSci"
   ]
  },
  {
   "cell_type": "markdown",
   "metadata": {},
   "source": [
    "Example script importing a directory of raster data layers into OmniSci point tables with the same base names."
   ]
  },
  {
   "cell_type": "code",
   "execution_count": 59,
   "metadata": {},
   "outputs": [],
   "source": [
    "import glob\n",
    "import gdal"
   ]
  },
  {
   "cell_type": "code",
   "execution_count": 60,
   "metadata": {},
   "outputs": [],
   "source": [
    "con = omnisci_connect()"
   ]
  },
  {
   "cell_type": "markdown",
   "metadata": {},
   "source": [
    "Point this somewhere Jupyter can write and your OmniSci instance has permission to read"
   ]
  },
  {
   "cell_type": "code",
   "execution_count": 61,
   "metadata": {},
   "outputs": [],
   "source": [
    "local_storage = \"/freenas-theExpanse/mflaxman/\""
   ]
  },
  {
   "cell_type": "markdown",
   "metadata": {},
   "source": [
    "For all geotiffs in the given directory..."
   ]
  },
  {
   "cell_type": "code",
   "execution_count": 62,
   "metadata": {},
   "outputs": [],
   "source": [
    "file_spec = f\"{local_storage}/*.tif\""
   ]
  },
  {
   "cell_type": "markdown",
   "metadata": {},
   "source": [
    "If your rasters are not in geo-coordinates, you can either use gdal to warp them, or add SRID to OmniSci CSV import."
   ]
  },
  {
   "cell_type": "code",
   "execution_count": 63,
   "metadata": {},
   "outputs": [
    {
     "name": "stdout",
     "output_type": "stream",
     "text": [
      "Done back-projecting 1 grid(s) to geo\n"
     ]
    }
   ],
   "source": [
    "reprojected_grids = []\n",
    "for layer in glob.glob(file_spec):\n",
    "    if 'geo' in layer:\n",
    "        continue # already projected\n",
    "    geotiff = layer.replace(\".tif\",\"_geo.tif\")\n",
    "    if not os.path.exists(geotiff):\n",
    "        print(f\"Reprojecting to {geotiff}\")\n",
    "        ds = gdal.Warp(geotiff, layer, dstSRS='EPSG:4326' )\n",
    "        ds = None\n",
    "    reprojected_grids.append(geotiff)\n",
    "print(f\"Done back-projecting {len(reprojected_grids)} grid(s) to geo\")"
   ]
  },
  {
   "cell_type": "code",
   "execution_count": 64,
   "metadata": {},
   "outputs": [],
   "source": [
    "def convert2xyz(geotiff):\n",
    "    outcsv = geotiff.replace(\".tif\",\".csv\")\n",
    "    options = \"-of XYZ -co ADD_HEADER_LINE=YES -co COLUMN_SEPARATOR=, \"\n",
    "    options += \"--config GDAL_CACHEMAX 4096 \" # -co NUM_THREADS=ALL_CPUS\n",
    "    command = \"gdal_translate \" + options + geotiff + \" \" + outcsv\n",
    "    # run from commandline - could also run from python library as gdal.Translate()\n",
    "    !{command}\n",
    "    return(outcsv)"
   ]
  },
  {
   "cell_type": "markdown",
   "metadata": {},
   "source": [
    "build appropriate schema for raster layer value and type\n",
    "note that we are merging X,Y columns into a single OmniSci Point\n",
    " \n",
    "You could alternatively create a small rectangle for each cell\n",
    "based on its geographic footprint.  This renders better up close, but is 4x heavier"
   ]
  },
  {
   "cell_type": "code",
   "execution_count": 65,
   "metadata": {},
   "outputs": [],
   "source": [
    "def ddl(table_name):\n",
    "    ddl = \"omnisci_geo GEOMETRY(POINT,4326), \"\n",
    "    ddl += \"cell_value SMALLINT\"  # your type may vary\n",
    "    return(ddl)"
   ]
  },
  {
   "cell_type": "code",
   "execution_count": 66,
   "metadata": {},
   "outputs": [],
   "source": [
    "def etl(geotiff):\n",
    "    outcsv = convert2xyz(geotiff)\n",
    "    df = pd.read_csv(outcsv)\n",
    "    # optional: clean up, remove no-data values, etc. here if needed\n",
    "    df.to_csv(outcsv, index=None) # overwrite prior\n",
    "        \n",
    "    # presuming file basename is sql-legal table name:\n",
    "    table_name = geotiff.split('/')[-1].replace(\".tif\",\"\")\n",
    "    if not table_name in con.list_tables():\n",
    "        c = f\"CREATE TABLE {table_name} ({ddl(table_name)})\"\n",
    "        try:\n",
    "            con.con.execute(c)\n",
    "            print(f\"Table created: {table_name}\")\n",
    "        except:\n",
    "            print(f\"Failed to create table: {table_name}\")\n",
    "\n",
    "        print(\"Loading from csv\")\n",
    "        q = f\"COPY {table_name} FROM '{outcsv}'\"\n",
    "        try:\n",
    "            con.con.execute(q)\n",
    "            print(f\"Loaded {table_name}\")\n",
    "        except:\n",
    "            print(\"Csv reading is failing\")\n",
    "    else:\n",
    "        print(f\"Warning: table already exists in OmniSci, drop first to replace {table_name}\")"
   ]
  },
  {
   "cell_type": "code",
   "execution_count": 67,
   "metadata": {},
   "outputs": [
    {
     "name": "stdout",
     "output_type": "stream",
     "text": [
      "Converting /freenas-theExpanse/mflaxman/la_terrain_within_5000m_of_tower_20701699_geo.tif to OmniSci table\n",
      "Input file size is 279, 231\n",
      "0...10...20...30...40...50...60...70...80...90...100 - done.\n",
      "Input file size is 279, 231\n",
      "0...10...20...30...40...50...60...70...80...90...100 - done.\n",
      "Warning: table already exists in OmniSci, drop first to replace la_terrain_within_5000m_of_tower_20701699_geo\n"
     ]
    }
   ],
   "source": [
    "for layer in reprojected_grids:\n",
    "    print(f\"Converting {layer} to OmniSci table\")\n",
    "    outcsv = convert2xyz(layer)\n",
    "    etl(layer)"
   ]
  },
  {
   "cell_type": "code",
   "execution_count": null,
   "metadata": {},
   "outputs": [],
   "source": []
  }
 ],
 "metadata": {
  "kernelspec": {
   "display_name": "Python 3",
   "language": "python",
   "name": "python3"
  },
  "language_info": {
   "codemirror_mode": {
    "name": "ipython",
    "version": 3
   },
   "file_extension": ".py",
   "mimetype": "text/x-python",
   "name": "python",
   "nbconvert_exporter": "python",
   "pygments_lexer": "ipython3",
   "version": "3.7.6"
  }
 },
 "nbformat": 4,
 "nbformat_minor": 4
}
